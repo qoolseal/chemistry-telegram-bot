{
  "nbformat": 4,
  "nbformat_minor": 0,
  "metadata": {
    "colab": {
      "provenance": [],
      "authorship_tag": "ABX9TyOkxFkn3247UH6zpubX6nbT",
      "include_colab_link": true
    },
    "kernelspec": {
      "name": "python3",
      "display_name": "Python 3"
    },
    "language_info": {
      "name": "python"
    }
  },
  "cells": [
    {
      "cell_type": "markdown",
      "metadata": {
        "id": "view-in-github",
        "colab_type": "text"
      },
      "source": [
        "<a href=\"https://colab.research.google.com/github/qoolseal/chemistry-telegram-bot/blob/main/test_bott.ipynb\" target=\"_parent\"><img src=\"https://colab.research.google.com/assets/colab-badge.svg\" alt=\"Open In Colab\"/></a>"
      ]
    },
    {
      "cell_type": "code",
      "source": [
        "pip install googletrans==3.1.0a0"
      ],
      "metadata": {
        "id": "5uCuojbpUqgS"
      },
      "execution_count": null,
      "outputs": []
    },
    {
      "cell_type": "code",
      "source": [
        "import googletrans\n",
        "from googletrans import Translator as translator\n",
        "\n",
        "result = translator.translate('Mitä sinä teet')\n",
        "result.dest"
      ],
      "metadata": {
        "id": "zMUI96QMUuFI"
      },
      "execution_count": null,
      "outputs": []
    },
    {
      "cell_type": "code",
      "source": [
        "pip install python-telegram-bot"
      ],
      "metadata": {
        "id": "xEU6OkqpEqcr"
      },
      "execution_count": null,
      "outputs": []
    },
    {
      "cell_type": "code",
      "source": [
        "import requests\n",
        "from bs4 import BeautifulSoup\n",
        "\n",
        "from telegram import InlineKeyboardButton, InlineKeyboardMarkup, Update\n",
        "from telegram.ext import Updater, CommandHandler, CallbackQueryHandler\n",
        "updater = Updater('<token>', use_context=True)\n",
        "      # telegram.ext.Updater получает все обновления/сообщения в автоматическом режиме.\n",
        "dispatcher = updater.dispatcher\n",
        "      # в объекте Dispatcher можно зарегистрировать обработчики разных типов,\n",
        "      # которые будут сортировать полученные объектом Updater сообщения\n",
        "from telegram.ext import MessageHandler, Filters  # модули необходимые для обработки сообщений\n",
        "import logging  # Чтобы знать, когда и почему что-то не работает должным образом,\n",
        "                # настроим модуль ведения журнала логов\n",
        "logging.basicConfig(format='%(levelname)s - %(message)s', level =logging.DEBUG)\n",
        "logger = logging.getLogger(__name__)\n",
        "\n",
        "def pred(update, context):\n",
        "  '''функция, предсказывающая продукты реакции(берётся с сайта https://chemequations.com/ru/)'''\n",
        "  if context.args:\n",
        "    pr = context.args\n",
        "    new = str(pr[0])\n",
        "    for i in range(1,len(pr)):\n",
        "      new+= '+%2B+' + str(pr[i])\n",
        "    u = f'https://chemequations.com/ru/?s={new}&ref=input'\n",
        "    response = requests.get(u)\n",
        "    soup = BeautifulSoup(response.text, 'lxml')\n",
        "    quotes = soup.find_all('span', class_ = 'group')\n",
        "    soup1 = soup.find_all('a')\n",
        "    href = soup1[11].get('href')\n",
        "    try:\n",
        "      if soup.find('caption').text == 'Существует несколько решений:':\n",
        "        context.bot.send_message(chat_id=update.effective_chat.id,\n",
        "                                text='Существует несколько решений. Вот самое популярное:')\n",
        "        u = 'https://chemequations.com/ru/' + str(href)\n",
        "        response = requests.get(u)\n",
        "        soup = BeautifulSoup(response.text, 'lxml')\n",
        "        quotes = soup.find_all('span', class_ = 'group')\n",
        "    except AttributeError:\n",
        "      quotes = soup.find_all('span', class_ = 'group')\n",
        "    ur = []\n",
        "    for q in quotes:\n",
        "      a = q.text\n",
        "      if a.startswith('(') and a.endswith(')'):\n",
        "        continue\n",
        "      elif a in ur:\n",
        "        continue\n",
        "      else:\n",
        "        ur.append(a)\n",
        "    if len(ur) == len(pr):\n",
        "      context.bot.send_message(chat_id=update.effective_chat.id,\n",
        "                                text='Не нашлось ответа. Попробуйте другую реакцию')\n",
        "    else:\n",
        "      ans = str(ur[0])\n",
        "      ur = ur[1:]\n",
        "      for i in range(len(ur)):\n",
        "        if ur[i] in pr:\n",
        "          ans += ' + ' + str(ur[i])\n",
        "        #context.bot.send_message(chat_id=update.effective_chat.id,\n",
        "                                #text=f'{ans}\\n{pr}')\n",
        "        if ur[i] not in pr:\n",
        "          ans += ' => ' + str(ur[i])\n",
        "          n = ur.index(ur[i])\n",
        "          break\n",
        "\n",
        "      if len(ur) != n:\n",
        "        ur = ur[int(n + 1):]\n",
        "        for i in range(len(ur)):\n",
        "          ans += ' + ' + str(ur[i])\n",
        "\n",
        "      context.bot.send_message(chat_id=update.effective_chat.id, text=ans)\n",
        "      context.bot.send_message(chat_id=update.effective_chat.id, text='А теперь можете уравнять сами или при помощи команды /eq')\n",
        "  else:\n",
        "    context.bot.send_message(chat_id=update.effective_chat.id,\n",
        "                                text='Нет аргументов')\n",
        "    context.bot.send_message(chat_id=update.effective_chat.id,\n",
        "                                text='Отправьте: /pred и реагенты через пробел\\nНапример, /pred H2SO4 NH3')\n",
        "\n",
        "updater.dispatcher.add_handler(CommandHandler('pred', pred))\n",
        "\n",
        "\n",
        "updater.start_polling()# говорим объекту updater слушать сервера telegram\n",
        "updater.idle()# обработчик нажатия Ctrl+C для остановки\n",
        "updater.stop()"
      ],
      "metadata": {
        "id": "NEAKEy3LD-yx"
      },
      "execution_count": null,
      "outputs": []
    }
  ]
}