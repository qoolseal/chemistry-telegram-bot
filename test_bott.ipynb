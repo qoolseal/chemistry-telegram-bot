{
  "nbformat": 4,
  "nbformat_minor": 0,
  "metadata": {
    "colab": {
      "provenance": [],
      "authorship_tag": "ABX9TyOkxFkn3247UH6zpubX6nbT",
      "include_colab_link": true
    },
    "kernelspec": {
      "name": "python3",
      "display_name": "Python 3"
    },
    "language_info": {
      "name": "python"
    }
  },
  "cells": [
    {
      "cell_type": "markdown",
      "metadata": {
        "id": "view-in-github",
        "colab_type": "text"
      },
      "source": [
        "<a href=\"https://colab.research.google.com/github/qoolseal/chemistry-telegram-bot/blob/main/test_bott.ipynb\" target=\"_parent\"><img src=\"https://colab.research.google.com/assets/colab-badge.svg\" alt=\"Open In Colab\"/></a>"
      ]
    },
    {
      "cell_type": "code",
      "source": [
        "pip install googletrans==3.1.0a0"
      ],
      "metadata": {
        "colab": {
          "base_uri": "https://localhost:8080/"
        },
        "id": "5uCuojbpUqgS",
        "outputId": "d4e3fd5b-7e00-42a1-d51c-caa7bffa0c95"
      },
      "execution_count": null,
      "outputs": [
        {
          "output_type": "stream",
          "name": "stdout",
          "text": [
            "Looking in indexes: https://pypi.org/simple, https://us-python.pkg.dev/colab-wheels/public/simple/\n",
            "Requirement already satisfied: googletrans==3.1.0a0 in /usr/local/lib/python3.7/dist-packages (3.1.0a0)\n",
            "Requirement already satisfied: httpx==0.13.3 in /usr/local/lib/python3.7/dist-packages (from googletrans==3.1.0a0) (0.13.3)\n",
            "Requirement already satisfied: idna==2.* in /usr/local/lib/python3.7/dist-packages (from httpx==0.13.3->googletrans==3.1.0a0) (2.10)\n",
            "Requirement already satisfied: httpcore==0.9.* in /usr/local/lib/python3.7/dist-packages (from httpx==0.13.3->googletrans==3.1.0a0) (0.9.1)\n",
            "Requirement already satisfied: sniffio in /usr/local/lib/python3.7/dist-packages (from httpx==0.13.3->googletrans==3.1.0a0) (1.2.0)\n",
            "Requirement already satisfied: hstspreload in /usr/local/lib/python3.7/dist-packages (from httpx==0.13.3->googletrans==3.1.0a0) (2021.12.1)\n",
            "Requirement already satisfied: rfc3986<2,>=1.3 in /usr/local/lib/python3.7/dist-packages (from httpx==0.13.3->googletrans==3.1.0a0) (1.5.0)\n",
            "Requirement already satisfied: certifi in /usr/local/lib/python3.7/dist-packages (from httpx==0.13.3->googletrans==3.1.0a0) (2022.5.18.1)\n",
            "Requirement already satisfied: chardet==3.* in /usr/local/lib/python3.7/dist-packages (from httpx==0.13.3->googletrans==3.1.0a0) (3.0.4)\n",
            "Requirement already satisfied: h2==3.* in /usr/local/lib/python3.7/dist-packages (from httpcore==0.9.*->httpx==0.13.3->googletrans==3.1.0a0) (3.2.0)\n",
            "Requirement already satisfied: h11<0.10,>=0.8 in /usr/local/lib/python3.7/dist-packages (from httpcore==0.9.*->httpx==0.13.3->googletrans==3.1.0a0) (0.9.0)\n",
            "Requirement already satisfied: hyperframe<6,>=5.2.0 in /usr/local/lib/python3.7/dist-packages (from h2==3.*->httpcore==0.9.*->httpx==0.13.3->googletrans==3.1.0a0) (5.2.0)\n",
            "Requirement already satisfied: hpack<4,>=3.0 in /usr/local/lib/python3.7/dist-packages (from h2==3.*->httpcore==0.9.*->httpx==0.13.3->googletrans==3.1.0a0) (3.0.0)\n"
          ]
        }
      ]
    },
    {
      "cell_type": "code",
      "source": [
        "import googletrans\n",
        "from googletrans import Translator as translator\n",
        "\n",
        "result = translator.translate('Mitä sinä teet')\n",
        "result.dest"
      ],
      "metadata": {
        "colab": {
          "base_uri": "https://localhost:8080/",
          "height": 217
        },
        "id": "zMUI96QMUuFI",
        "outputId": "724d67a0-10f3-411a-dde4-81279fa8d416"
      },
      "execution_count": null,
      "outputs": [
        {
          "output_type": "error",
          "ename": "TypeError",
          "evalue": "ignored",
          "traceback": [
            "\u001b[0;31m---------------------------------------------------------------------------\u001b[0m",
            "\u001b[0;31mTypeError\u001b[0m                                 Traceback (most recent call last)",
            "\u001b[0;32m<ipython-input-5-c92c235311b6>\u001b[0m in \u001b[0;36m<module>\u001b[0;34m()\u001b[0m\n\u001b[1;32m      2\u001b[0m \u001b[0;32mfrom\u001b[0m \u001b[0mgoogletrans\u001b[0m \u001b[0;32mimport\u001b[0m \u001b[0mTranslator\u001b[0m \u001b[0;32mas\u001b[0m \u001b[0mtranslator\u001b[0m\u001b[0;34m\u001b[0m\u001b[0;34m\u001b[0m\u001b[0m\n\u001b[1;32m      3\u001b[0m \u001b[0;34m\u001b[0m\u001b[0m\n\u001b[0;32m----> 4\u001b[0;31m \u001b[0mresult\u001b[0m \u001b[0;34m=\u001b[0m \u001b[0mtranslator\u001b[0m\u001b[0;34m.\u001b[0m\u001b[0mtranslate\u001b[0m\u001b[0;34m(\u001b[0m\u001b[0;34m'Mitä sinä teet'\u001b[0m\u001b[0;34m)\u001b[0m\u001b[0;34m\u001b[0m\u001b[0;34m\u001b[0m\u001b[0m\n\u001b[0m\u001b[1;32m      5\u001b[0m \u001b[0mresult\u001b[0m\u001b[0;34m.\u001b[0m\u001b[0mdest\u001b[0m\u001b[0;34m\u001b[0m\u001b[0;34m\u001b[0m\u001b[0m\n",
            "\u001b[0;31mTypeError\u001b[0m: translate() missing 1 required positional argument: 'text'"
          ]
        }
      ]
    },
    {
      "cell_type": "code",
      "source": [
        "pip install python-telegram-bot"
      ],
      "metadata": {
        "colab": {
          "base_uri": "https://localhost:8080/",
          "height": 676
        },
        "id": "xEU6OkqpEqcr",
        "outputId": "343fd3cc-0d71-438f-95c7-462c00fda0ea"
      },
      "execution_count": null,
      "outputs": [
        {
          "output_type": "stream",
          "name": "stdout",
          "text": [
            "Looking in indexes: https://pypi.org/simple, https://us-python.pkg.dev/colab-wheels/public/simple/\n",
            "Collecting python-telegram-bot\n",
            "  Downloading python_telegram_bot-13.12-py3-none-any.whl (511 kB)\n",
            "\u001b[K     |████████████████████████████████| 511 kB 24.5 MB/s \n",
            "\u001b[?25hRequirement already satisfied: pytz>=2018.6 in /usr/local/lib/python3.7/dist-packages (from python-telegram-bot) (2022.1)\n",
            "Collecting cachetools==4.2.2\n",
            "  Downloading cachetools-4.2.2-py3-none-any.whl (11 kB)\n",
            "Requirement already satisfied: certifi in /usr/local/lib/python3.7/dist-packages (from python-telegram-bot) (2022.5.18.1)\n",
            "Collecting tornado>=6.1\n",
            "  Downloading tornado-6.1-cp37-cp37m-manylinux2010_x86_64.whl (428 kB)\n",
            "\u001b[K     |████████████████████████████████| 428 kB 37.9 MB/s \n",
            "\u001b[?25hCollecting APScheduler==3.6.3\n",
            "  Downloading APScheduler-3.6.3-py2.py3-none-any.whl (58 kB)\n",
            "\u001b[K     |████████████████████████████████| 58 kB 6.1 MB/s \n",
            "\u001b[?25hRequirement already satisfied: setuptools>=0.7 in /usr/local/lib/python3.7/dist-packages (from APScheduler==3.6.3->python-telegram-bot) (57.4.0)\n",
            "Requirement already satisfied: six>=1.4.0 in /usr/local/lib/python3.7/dist-packages (from APScheduler==3.6.3->python-telegram-bot) (1.15.0)\n",
            "Requirement already satisfied: tzlocal>=1.2 in /usr/local/lib/python3.7/dist-packages (from APScheduler==3.6.3->python-telegram-bot) (1.5.1)\n",
            "Installing collected packages: tornado, cachetools, APScheduler, python-telegram-bot\n",
            "  Attempting uninstall: tornado\n",
            "    Found existing installation: tornado 5.1.1\n",
            "    Uninstalling tornado-5.1.1:\n",
            "      Successfully uninstalled tornado-5.1.1\n",
            "  Attempting uninstall: cachetools\n",
            "    Found existing installation: cachetools 4.2.4\n",
            "    Uninstalling cachetools-4.2.4:\n",
            "      Successfully uninstalled cachetools-4.2.4\n",
            "\u001b[31mERROR: pip's dependency resolver does not currently take into account all the packages that are installed. This behaviour is the source of the following dependency conflicts.\n",
            "google-colab 1.0.0 requires tornado~=5.1.0; python_version >= \"3.0\", but you have tornado 6.1 which is incompatible.\u001b[0m\n",
            "Successfully installed APScheduler-3.6.3 cachetools-4.2.2 python-telegram-bot-13.12 tornado-6.1\n"
          ]
        },
        {
          "output_type": "display_data",
          "data": {
            "application/vnd.colab-display-data+json": {
              "pip_warning": {
                "packages": [
                  "tornado"
                ]
              }
            }
          },
          "metadata": {}
        }
      ]
    },
    {
      "cell_type": "code",
      "source": [
        "import requests\n",
        "from bs4 import BeautifulSoup\n",
        "\n",
        "from telegram import InlineKeyboardButton, InlineKeyboardMarkup, Update\n",
        "from telegram.ext import Updater, CommandHandler, CallbackQueryHandler\n",
        "updater = Updater('<token>', use_context=True)\n",
        "      # telegram.ext.Updater получает все обновления/сообщения в автоматическом режиме.\n",
        "dispatcher = updater.dispatcher\n",
        "      # в объекте Dispatcher можно зарегистрировать обработчики разных типов,\n",
        "      # которые будут сортировать полученные объектом Updater сообщения\n",
        "from telegram.ext import MessageHandler, Filters  # модули необходимые для обработки сообщений\n",
        "import logging  # Чтобы знать, когда и почему что-то не работает должным образом,\n",
        "                # настроим модуль ведения журнала логов\n",
        "logging.basicConfig(format='%(levelname)s - %(message)s', level =logging.DEBUG)\n",
        "logger = logging.getLogger(__name__)\n",
        "\n",
        "def pred(update, context):\n",
        "  '''функция, предсказывающая продукты реакции(берётся с сайта https://chemequations.com/ru/)'''\n",
        "  if context.args:\n",
        "    pr = context.args\n",
        "    new = str(pr[0])\n",
        "    for i in range(1,len(pr)):\n",
        "      new+= '+%2B+' + str(pr[i])\n",
        "    u = f'https://chemequations.com/ru/?s={new}&ref=input'\n",
        "    response = requests.get(u)\n",
        "    soup = BeautifulSoup(response.text, 'lxml')\n",
        "    quotes = soup.find_all('span', class_ = 'group')\n",
        "    soup1 = soup.find_all('a')\n",
        "    href = soup1[11].get('href')\n",
        "    try:\n",
        "      if soup.find('caption').text == 'Существует несколько решений:':\n",
        "        context.bot.send_message(chat_id=update.effective_chat.id,\n",
        "                                text='Существует несколько решений. Вот самое популярное:')\n",
        "        u = 'https://chemequations.com/ru/' + str(href)\n",
        "        response = requests.get(u)\n",
        "        soup = BeautifulSoup(response.text, 'lxml')\n",
        "        quotes = soup.find_all('span', class_ = 'group')\n",
        "    except AttributeError:\n",
        "      quotes = soup.find_all('span', class_ = 'group')\n",
        "    ur = []\n",
        "    for q in quotes:\n",
        "      a = q.text\n",
        "      if a.startswith('(') and a.endswith(')'):\n",
        "        continue\n",
        "      elif a in ur:\n",
        "        continue\n",
        "      else:\n",
        "        ur.append(a)\n",
        "    if len(ur) == len(pr):\n",
        "      context.bot.send_message(chat_id=update.effective_chat.id,\n",
        "                                text='Не нашлось ответа. Попробуйте другую реакцию')\n",
        "    else:\n",
        "      ans = str(ur[0])\n",
        "      ur = ur[1:]\n",
        "      for i in range(len(ur)):\n",
        "        if ur[i] in pr:\n",
        "          ans += ' + ' + str(ur[i])\n",
        "        #context.bot.send_message(chat_id=update.effective_chat.id,\n",
        "                                #text=f'{ans}\\n{pr}')\n",
        "        if ur[i] not in pr:\n",
        "          ans += ' => ' + str(ur[i])\n",
        "          n = ur.index(ur[i])\n",
        "          break\n",
        "\n",
        "      if len(ur) != n:\n",
        "        ur = ur[int(n + 1):]\n",
        "        for i in range(len(ur)):\n",
        "          ans += ' + ' + str(ur[i])\n",
        "\n",
        "      context.bot.send_message(chat_id=update.effective_chat.id, text=ans)\n",
        "      context.bot.send_message(chat_id=update.effective_chat.id, text='А теперь можете уравнять сами или при помощи команды /eq')\n",
        "  else:\n",
        "    context.bot.send_message(chat_id=update.effective_chat.id,\n",
        "                                text='Нет аргументов')\n",
        "    context.bot.send_message(chat_id=update.effective_chat.id,\n",
        "                                text='Отправьте: /pred и реагенты через пробел\\nНапример, /pred H2SO4 NH3')\n",
        "\n",
        "updater.dispatcher.add_handler(CommandHandler('pred', pred))\n",
        "\n",
        "\n",
        "updater.start_polling()# говорим объекту updater слушать сервера telegram\n",
        "updater.idle()# обработчик нажатия Ctrl+C для остановки\n",
        "updater.stop()"
      ],
      "metadata": {
        "colab": {
          "base_uri": "https://localhost:8080/"
        },
        "id": "NEAKEy3LD-yx",
        "outputId": "720841c2-5a5f-4c27-87a7-7eb7f89c70ac"
      },
      "execution_count": null,
      
          
        }
      ]
    }
  ]
}
